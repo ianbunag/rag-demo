{
 "cells": [
  {
   "cell_type": "markdown",
   "id": "c49cd517-416a-47cf-bf15-b5d81228ec0c",
   "metadata": {},
   "source": [
    "# Retrieval Augmented Generation Demo - Inventory (partial)"
   ]
  },
  {
   "cell_type": "markdown",
   "id": "26d81bc7-9aec-4b06-b31e-da9773c4c9c4",
   "metadata": {},
   "source": [
    "## Prerequisites\n",
    "\n",
    "### Make a `.env` file\n",
    "\n",
    "```sh\n",
    "cp .env.example .env\n",
    "```\n",
    "\n",
    "### Provide API keys in `.env` file \n",
    "\n",
    "- LANGCHAIN_API_KEY (optional)\n",
    "  -  Sign up to https://smith.langchain.com/\n",
    "  -  Go to Settings -> API Keys\n",
    "  -  Create API Key\n",
    "- GROQ_API_KEY\n",
    "  - Sign up to https://console.groq.com/\n",
    "  - Go to API Keys\n",
    "  - Create API Key\n",
    "\n",
    "### Check that everything is working\n",
    "\n",
    "- Check that the configured Kernel is `.venv`\n",
    "  - In the navigation bar, click `Kernel`\n",
    "  - Click `Change Kernel...`\n",
    "- Check that all cells are working\n",
    "  - In the navigation bar, click `Kernel`\n",
    "  - Click `Restart Kernel...`\n",
    "  - In the navigation bar, click `Edit`\n",
    "  - Click `Clear Outputs of All Cells`\n",
    "  - In the navigation bar, click `Run`\n",
    "  - Click `Run All Cells`"
   ]
  },
  {
   "cell_type": "markdown",
   "id": "d4c8f9cc-50c7-4838-a3a9-ec79ee0e0480",
   "metadata": {},
   "source": [
    "## Set up environment"
   ]
  },
  {
   "cell_type": "code",
   "execution_count": 33,
   "id": "c7acb2bd-728f-4deb-89f0-6a00d4478fd1",
   "metadata": {},
   "outputs": [
    {
     "data": {
      "text/plain": [
       "True"
      ]
     },
     "execution_count": 33,
     "metadata": {},
     "output_type": "execute_result"
    }
   ],
   "source": [
    "import warnings\n",
    "from dotenv import load_dotenv\n",
    "\n",
    "warnings.filterwarnings('ignore')\n",
    "load_dotenv()"
   ]
  },
  {
   "cell_type": "markdown",
   "id": "46657b90-4a35-4443-a67c-a9cd3e697a13",
   "metadata": {},
   "source": [
    "## Set up tracing (Optional)\n",
    "Define `LANGCHAIN_API_KEY` in your `.env` file.  "
   ]
  },
  {
   "cell_type": "code",
   "execution_count": 34,
   "id": "457a528f-5971-44b8-aa72-c594ca80b7bc",
   "metadata": {},
   "outputs": [
    {
     "data": {
      "text/plain": [
       "'true'"
      ]
     },
     "execution_count": 34,
     "metadata": {},
     "output_type": "execute_result"
    }
   ],
   "source": [
    "import os\n",
    "\n",
    "if \"LANGCHAIN_API_KEY\" in os.environ and os.environ[\"LANGCHAIN_API_KEY\"] != \"\":\n",
    "    os.environ[\"LANGCHAIN_TRACING_V2\"] = \"true\"\n",
    "else:\n",
    "    os.environ[\"LANGCHAIN_TRACING_V2\"] = \"false\"\n",
    "\n",
    "os.environ[\"LANGCHAIN_TRACING_V2\"]"
   ]
  },
  {
   "cell_type": "markdown",
   "id": "4aab1ae7-b891-4a6d-aa33-a499a76a5c99",
   "metadata": {},
   "source": [
    "## Set up LLM\n",
    "Define `GROQ_API_KEY` in your `.env` file."
   ]
  },
  {
   "cell_type": "code",
   "execution_count": 35,
   "id": "9c35c49d-248f-43c7-82d6-d18dfc7d9f20",
   "metadata": {},
   "outputs": [],
   "source": [
    "from langchain_groq import ChatGroq\n",
    "\n",
    "llm = ChatGroq(model=\"llama3-8b-8192\")"
   ]
  },
  {
   "cell_type": "markdown",
   "id": "6f30fd11-ddb6-41ee-aa15-1c540ab62b90",
   "metadata": {},
   "source": [
    "## Indexing - Load documents"
   ]
  },
  {
   "cell_type": "code",
   "execution_count": 36,
   "id": "682d9746-8b51-4ad0-899e-94a56eea824e",
   "metadata": {},
   "outputs": [
    {
     "data": {
      "text/plain": [
       "3999"
      ]
     },
     "execution_count": 36,
     "metadata": {},
     "output_type": "execute_result"
    }
   ],
   "source": [
    "import os\n",
    "import bs4\n",
    "from langchain_community.document_loaders import WebBaseLoader\n",
    "\n",
    "os.environ[\"USER_AGENT\"] = \"Mozilla/5.0 (Windows NT 10.0; Win64; x64) AppleWebKit/537.36 (KHTML, like Gecko) Chrome/114.0.0.0 Safari/537.36\"\n",
    "\n",
    "# bs4_strainer = bs4.SoupStrainer(class_=(\"post-title\", \"post-header\", \"post-content\"))\n",
    "loader = WebBaseLoader(\n",
    "    web_paths=(\n",
    "        \"https://k-series-support.lightspeedhq.com/hc/en-us/articles/4407517428891-About-Inventory\",\n",
    "        \"https://k-series-support.lightspeedhq.com/hc/en-us/articles/20537741099419-Discrepancy-reports\",\n",
    "        \"https://k-series-support.lightspeedhq.com/hc/en-us/articles/16092679490331-Stock-transfers\",\n",
    "        \"https://k-series-support.lightspeedhq.com/hc/en-us/articles/6752297865883-About-Purchase\",\n",
    "        \"https://k-series-support.lightspeedhq.com/hc/en-us/articles/4407560855707-Adding-suppliers\",\n",
    "        \"https://k-series-support.lightspeedhq.com/hc/en-us/articles/4407569259547-Creating-purchase-orders\",\n",
    "        \"https://k-series-support.lightspeedhq.com/hc/en-us/articles/4407576020507-Receiving-managing-and-deleting-purchase-orders\",\n",
    "        \"https://k-series-support.lightspeedhq.com/hc/en-us/articles/6734173537435-Setting-up-recurring-orders\",\n",
    "        \"https://k-series-support.lightspeedhq.com/hc/en-us/articles/11207355170203-Purchase-Reports\",\n",
    "        \"https://k-series-support.lightspeedhq.com/hc/en-us/articles/4407511020571-About-Produce\",\n",
    "        \"https://k-series-support.lightspeedhq.com/hc/en-us/articles/4407511552155-Creating-and-managing-recipes\",\n",
    "        \"https://k-series-support.lightspeedhq.com/hc/en-us/articles/4407567874843-Creating-and-managing-batches\",\n",
    "        \"https://k-series-support.lightspeedhq.com/hc/en-us/articles/4407568240795-Batch-history\",\n",
    "        # \"https://k-series-support.lightspeedhq.com/hc/en-us/articles/4407509542043-Stock-management-Inventory\",\n",
    "        # \"https://k-series-support.lightspeedhq.com/hc/en-us/articles/6669636140443-About-Items-Inventory\",\n",
    "        # \"https://k-series-support.lightspeedhq.com/hc/en-us/articles/4407517612699-Stock-levels\",\n",
    "        # \"https://k-series-support.lightspeedhq.com/hc/en-us/articles/6670276492699-Stock-locations\",\n",
    "        # \"https://k-series-support.lightspeedhq.com/hc/en-us/articles/4407510354715-Performing-stock-counts\",\n",
    "        # \"https://k-series-support.lightspeedhq.com/hc/en-us/articles/6686397618843-Par-levels\",\n",
    "        # \"https://k-series-support.lightspeedhq.com/hc/en-us/articles/7116014889499-Wastage\",\n",
    "    ),\n",
    "    # bs_kwargs={\"parse_only\": bs4_strainer},\n",
    ")\n",
    "docs = loader.load()\n",
    "\n",
    "len(docs[0].page_content)"
   ]
  },
  {
   "cell_type": "markdown",
   "id": "f64c2a33-fe18-4846-86b0-0c12e66182c7",
   "metadata": {},
   "source": [
    "## Indexing - Split documents"
   ]
  },
  {
   "cell_type": "code",
   "execution_count": 38,
   "id": "3ec74fe9-3ab5-4e75-9e17-93ba3dd19eb4",
   "metadata": {},
   "outputs": [
    {
     "data": {
      "text/plain": [
       "104"
      ]
     },
     "execution_count": 38,
     "metadata": {},
     "output_type": "execute_result"
    }
   ],
   "source": [
    "from langchain_text_splitters import RecursiveCharacterTextSplitter\n",
    "\n",
    "text_splitter = RecursiveCharacterTextSplitter(\n",
    "    chunk_size=1000,\n",
    "    chunk_overlap=200,\n",
    "    add_start_index=True,\n",
    ")\n",
    "all_splits = text_splitter.split_documents(docs)\n",
    "\n",
    "len(all_splits)"
   ]
  },
  {
   "cell_type": "markdown",
   "id": "2e35c5ca-8e11-4e12-be9c-cfdbb6731999",
   "metadata": {},
   "source": [
    "## Indexing - Embed and store documents"
   ]
  },
  {
   "cell_type": "code",
   "execution_count": 39,
   "id": "82953a89-8ade-4141-9ce5-d636e396aa33",
   "metadata": {},
   "outputs": [
    {
     "name": "stdout",
     "output_type": "stream",
     "text": [
      "Indexing started...\n",
      "Indexing completed in 6.09s.\n"
     ]
    }
   ],
   "source": [
    "import time\n",
    "from langchain_chroma import Chroma\n",
    "from langchain_huggingface.embeddings import HuggingFaceEmbeddings\n",
    "\n",
    "print(\"Indexing started...\")\n",
    "start = time.time()\n",
    "\n",
    "vectorstore = Chroma.from_documents(\n",
    "    documents=all_splits,\n",
    "    embedding=HuggingFaceEmbeddings()\n",
    ")\n",
    "\n",
    "end = time.time()\n",
    "print(f\"Indexing completed in {round(end - start, 2)}s.\")"
   ]
  },
  {
   "cell_type": "markdown",
   "id": "b93cbef8-f8ef-4336-b90f-42774d53aacc",
   "metadata": {},
   "source": [
    "## Retrieval and generation"
   ]
  },
  {
   "cell_type": "code",
   "execution_count": 41,
   "id": "644569f0-f7a7-4c66-af4d-42a223546b05",
   "metadata": {},
   "outputs": [],
   "source": [
    "import os\n",
    "from langchain import hub\n",
    "from langchain_core.output_parsers import StrOutputParser\n",
    "from langchain_core.runnables import RunnablePassthrough\n",
    "\n",
    "def format_docs(docs):\n",
    "    return \"\\n\\n\".join(doc.page_content for doc in docs)\n",
    "\n",
    "os.environ[\"TOKENIZERS_PARALLELISM\"] = \"false\"\n",
    "\n",
    "retriever = vectorstore.as_retriever(\n",
    "    search_type=\"similarity\",\n",
    "    search_kwargs={\"k\": 6},\n",
    ")\n",
    "prompt = hub.pull(\"rlm/rag-prompt\")\n",
    "rag_chain = (\n",
    "    {\"context\": retriever | format_docs, \"question\": RunnablePassthrough()}\n",
    "    | prompt\n",
    "    | llm\n",
    "    | StrOutputParser()\n",
    ")\n",
    "\n",
    "def ask(question):\n",
    "  for chunk in rag_chain.stream(question):\n",
    "    print(chunk, end=\"\", flush=True)  "
   ]
  },
  {
   "cell_type": "markdown",
   "id": "0ebc5f80-e251-4a1f-9ccd-337213018d34",
   "metadata": {},
   "source": [
    "### What is Inventory? What are its features?"
   ]
  },
  {
   "cell_type": "code",
   "execution_count": 42,
   "id": "d7ac0116-af67-4558-b233-a007d90192a7",
   "metadata": {},
   "outputs": [
    {
     "name": "stdout",
     "output_type": "stream",
     "text": [
      "Inventory refers to the management and tracking of goods or stock levels in a business. Its features include stock management, produce management, and purchase management, allowing for the tracking of quantity and value of items, setting of reorder points, and creation of purchase orders."
     ]
    }
   ],
   "source": [
    "ask(\"What is Inventory? What are its features?\")"
   ]
  },
  {
   "cell_type": "markdown",
   "id": "c50d4864-7fb9-456d-88e6-4321f54a37e5",
   "metadata": {},
   "source": [
    "## Is there a feature I can use to define instructions for preparing dishes and listing the ingredients required?"
   ]
  },
  {
   "cell_type": "code",
   "execution_count": 44,
   "id": "429d0979-a85e-445c-bf8f-25500edb4ce0",
   "metadata": {},
   "outputs": [
    {
     "name": "stdout",
     "output_type": "stream",
     "text": [
      "Yes, you can define instructions for preparing dishes and list the ingredients required by setting up a new recipe in the Back Office > Menu Management > Items. Ensure that the finished product and its ingredients exist as items before creating a new recipe."
     ]
    }
   ],
   "source": [
    "ask(\"Is there a feature I can use to define instructions for preparing dishes and listing the ingredients required?\")"
   ]
  },
  {
   "cell_type": "markdown",
   "id": "7b62a3ea-ffea-4b53-92c0-297db95b44ce",
   "metadata": {},
   "source": [
    "## Is there a feature I can use to record item wastages?"
   ]
  },
  {
   "cell_type": "code",
   "execution_count": 45,
   "id": "14b2a103-71a1-46c9-a101-eacb75e482ad",
   "metadata": {},
   "outputs": [
    {
     "name": "stdout",
     "output_type": "stream",
     "text": [
      "No, there is no feature to record item wastages in the given context."
     ]
    }
   ],
   "source": [
    "ask(\"Is there a feature I can use to record item wastages?\")"
   ]
  }
 ],
 "metadata": {
  "kernelspec": {
   "display_name": ".venv",
   "language": "python",
   "name": ".venv"
  },
  "language_info": {
   "codemirror_mode": {
    "name": "ipython",
    "version": 3
   },
   "file_extension": ".py",
   "mimetype": "text/x-python",
   "name": "python",
   "nbconvert_exporter": "python",
   "pygments_lexer": "ipython3",
   "version": "3.11.6"
  }
 },
 "nbformat": 4,
 "nbformat_minor": 5
}
