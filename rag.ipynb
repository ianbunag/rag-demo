{
 "cells": [
  {
   "cell_type": "markdown",
   "id": "c49cd517-416a-47cf-bf15-b5d81228ec0c",
   "metadata": {},
   "source": [
    "# Retrieval Augmented Generation Demo"
   ]
  },
  {
   "cell_type": "markdown",
   "id": "d4c8f9cc-50c7-4838-a3a9-ec79ee0e0480",
   "metadata": {},
   "source": [
    "## Set up environment"
   ]
  },
  {
   "cell_type": "code",
   "execution_count": null,
   "id": "c7acb2bd-728f-4deb-89f0-6a00d4478fd1",
   "metadata": {},
   "outputs": [],
   "source": [
    "import warnings\n",
    "from dotenv import load_dotenv\n",
    "\n",
    "warnings.filterwarnings('ignore')\n",
    "load_dotenv()"
   ]
  },
  {
   "cell_type": "markdown",
   "id": "46657b90-4a35-4443-a67c-a9cd3e697a13",
   "metadata": {},
   "source": [
    "## Set up tracing\n",
    "Define `LANGCHAIN_API_KEY` in your `.env` file.  \n",
    "This step is optional."
   ]
  },
  {
   "cell_type": "code",
   "execution_count": null,
   "id": "457a528f-5971-44b8-aa72-c594ca80b7bc",
   "metadata": {},
   "outputs": [],
   "source": [
    "import getpass\n",
    "import os\n",
    "\n",
    "os.environ[\"LANGCHAIN_TRACING_V2\"] = \"true\"\n",
    "# os.environ[\"LANGCHAIN_API_KEY\"] = getpass.getpass()"
   ]
  },
  {
   "cell_type": "markdown",
   "id": "4aab1ae7-b891-4a6d-aa33-a499a76a5c99",
   "metadata": {},
   "source": [
    "## Set up LLM\n",
    "Define `GROQ_API_KEY` in your `.env` file."
   ]
  },
  {
   "cell_type": "code",
   "execution_count": null,
   "id": "9c35c49d-248f-43c7-82d6-d18dfc7d9f20",
   "metadata": {},
   "outputs": [],
   "source": [
    "# import getpass\n",
    "# import os\n",
    "\n",
    "# os.environ[\"GROQ_API_KEY\"] = getpass.getpass()\n",
    "import sys\n",
    "print(sys.path)\n",
    "print(sys.version)\n",
    "\n",
    "from langchain_groq import ChatGroq\n",
    "\n",
    "llm = ChatGroq(model=\"llama3-8b-8192\")"
   ]
  },
  {
   "cell_type": "markdown",
   "id": "6f30fd11-ddb6-41ee-aa15-1c540ab62b90",
   "metadata": {},
   "source": [
    "## Indexing: Load"
   ]
  },
  {
   "cell_type": "code",
   "execution_count": null,
   "id": "682d9746-8b51-4ad0-899e-94a56eea824e",
   "metadata": {},
   "outputs": [],
   "source": [
    "import bs4\n",
    "from langchain_community.document_loaders import WebBaseLoader\n",
    "\n",
    "# Only keep post title, headers, and content from the full HTML.\n",
    "bs4_strainer = bs4.SoupStrainer(class_=(\"post-title\", \"post-header\", \"post-content\"))\n",
    "loader = WebBaseLoader(\n",
    "    web_paths=(\"https://lilianweng.github.io/posts/2023-06-23-agent/\",),\n",
    "    bs_kwargs={\"parse_only\": bs4_strainer},\n",
    ")\n",
    "docs = loader.load()\n",
    "\n",
    "len(docs[0].page_content)"
   ]
  },
  {
   "cell_type": "markdown",
   "id": "f64c2a33-fe18-4846-86b0-0c12e66182c7",
   "metadata": {},
   "source": [
    "## Indexing: Split"
   ]
  },
  {
   "cell_type": "code",
   "execution_count": null,
   "id": "3ec74fe9-3ab5-4e75-9e17-93ba3dd19eb4",
   "metadata": {},
   "outputs": [],
   "source": [
    "from langchain_text_splitters import RecursiveCharacterTextSplitter\n",
    "\n",
    "text_splitter = RecursiveCharacterTextSplitter(\n",
    "    chunk_size=1000, chunk_overlap=200, add_start_index=True\n",
    ")\n",
    "all_splits = text_splitter.split_documents(docs)\n",
    "\n",
    "len(all_splits)"
   ]
  },
  {
   "cell_type": "markdown",
   "id": "2e35c5ca-8e11-4e12-be9c-cfdbb6731999",
   "metadata": {},
   "source": [
    "## Indexing: Store"
   ]
  },
  {
   "cell_type": "code",
   "execution_count": null,
   "id": "82953a89-8ade-4141-9ce5-d636e396aa33",
   "metadata": {},
   "outputs": [],
   "source": [
    "from langchain_chroma import Chroma\n",
    "from langchain_openai import OpenAIEmbeddings\n",
    "\n",
    "vectorstore = Chroma.from_documents(documents=all_splits, embedding=OpenAIEmbeddings())"
   ]
  },
  {
   "cell_type": "code",
   "execution_count": null,
   "id": "9e5857f5-6c69-4a85-8321-db17452cf083",
   "metadata": {},
   "outputs": [],
   "source": []
  }
 ],
 "metadata": {
  "kernelspec": {
   "display_name": "venv",
   "language": "python",
   "name": "venv"
  },
  "language_info": {
   "codemirror_mode": {
    "name": "ipython",
    "version": 3
   },
   "file_extension": ".py",
   "mimetype": "text/x-python",
   "name": "python",
   "nbconvert_exporter": "python",
   "pygments_lexer": "ipython3",
   "version": "3.9.6"
  }
 },
 "nbformat": 4,
 "nbformat_minor": 5
}
